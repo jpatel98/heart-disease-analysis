{
 "cells": [
  {
   "cell_type": "markdown",
   "id": "b47388b0",
   "metadata": {},
   "source": [
    "# Heart Disease Project\n",
    "In this project, we import a data from a CSV file and perform simple calculations."
   ]
  },
  {
   "cell_type": "code",
   "execution_count": 33,
   "id": "4c39d27e",
   "metadata": {},
   "outputs": [],
   "source": [
    "# Importing libraries\n",
    "import pandas as pd;\n",
    "import seaborn as sns;\n",
    "import matplotlib.pyplot as plt;\n",
    "\n",
    "# Loading csv file into a dataframe\n",
    "data = pd.read_csv(\"./data/heart-disease.csv\");"
   ]
  },
  {
   "cell_type": "markdown",
   "id": "b5683f99",
   "metadata": {},
   "source": [
    "## Data exploration and cleaning\n",
    "The data we loaded is a dataset containing information about patients heart history. Each row in the dataset represents one patient and each column represents a different variable. Here is a brief description of each column:\n",
    "\n",
    "- age: The age of the patient in years.\n",
    "- sex: The sex of the patient (0 = female, 1 = male).\n",
    "- cp: The type of chest pain experienced by the patient (0 = typical angina, 1 = atypical angina, 2 = non-anginal pain, 3 = asymptomatic).\n",
    "- trestbps: The resting blood pressure of the patient in mm Hg.\n",
    "- chol: The serum cholesterol level of the patient in mg/dL.\n",
    "- fbs: The fasting blood sugar level of the patient (0 = <120 mg/dL, 1 = >=120 mg/dL).\n",
    "- restecg: The resting electrocardiographic results of the patient (0 = normal, 1 = having ST-T wave abnormality, 2 = showing probable or definite left ventricular hypertrophy).\n",
    "- thalach: The maximum heart rate achieved by the patient during exercise.\n",
    "- exang: Whether or not the patient has exercise-induced angina (0 = no, 1 = yes).\n",
    "- oldpeak: ST depression induced by exercise relative to rest.\n",
    "- slope: The slope of the peak exercise ST segment (0 = upsloping, 1 = flat, 2 = downsloping).\n",
    "- ca: The number of major vessels (0-3) colored by fluoroscopy.\n",
    "- thal: A blood disorder called thalassemia (0 = normal, 1 = fixed defect, 2 = reversible defect).\n",
    "- target: Whether or not the patient has heart disease (0 = no, 1 = yes)."
   ]
  },
  {
   "cell_type": "code",
   "execution_count": 10,
   "id": "02bec9b7",
   "metadata": {},
   "outputs": [
    {
     "name": "stdout",
     "output_type": "stream",
     "text": [
      "     age  sex  cp  trestbps  chol  fbs  restecg  thalach  exang  oldpeak  \\\n",
      "168   63    1   0       130   254    0        0      147      0      1.4   \n",
      "9     57    1   2       150   168    0        1      174      0      1.6   \n",
      "72    29    1   1       130   204    0        0      202      0      0.0   \n",
      "116   41    1   2       130   214    0        0      168      0      2.0   \n",
      "85    67    0   2       115   564    0        0      160      0      1.6   \n",
      "\n",
      "     slope  ca  thal  target  \n",
      "168      1   1     3       0  \n",
      "9        2   0     2       1  \n",
      "72       2   0     2       1  \n",
      "116      1   0     2       1  \n",
      "85       1   0     3       1  \n"
     ]
    }
   ],
   "source": [
    "# Random data from the csv file to audit the quality.\n",
    "print(data.sample(n=5));"
   ]
  },
  {
   "cell_type": "code",
   "execution_count": 16,
   "id": "021188b6",
   "metadata": {
    "scrolled": false
   },
   "outputs": [
    {
     "name": "stdout",
     "output_type": "stream",
     "text": [
      "age           int64\n",
      "sex           int64\n",
      "cp            int64\n",
      "trestbps      int64\n",
      "chol          int64\n",
      "fbs           int64\n",
      "restecg       int64\n",
      "thalach       int64\n",
      "exang         int64\n",
      "oldpeak     float64\n",
      "slope         int64\n",
      "ca            int64\n",
      "thal          int64\n",
      "target        int64\n",
      "dtype: object\n"
     ]
    }
   ],
   "source": [
    "# Printing the data type of each of our variables (columns)\n",
    "print(data.dtypes);"
   ]
  },
  {
   "cell_type": "code",
   "execution_count": 20,
   "id": "559c6595",
   "metadata": {},
   "outputs": [
    {
     "name": "stdout",
     "output_type": "stream",
     "text": [
      "       age    sex     cp  trestbps   chol    fbs  restecg  thalach  exang  \\\n",
      "0    False  False  False     False  False  False    False    False  False   \n",
      "1    False  False  False     False  False  False    False    False  False   \n",
      "2    False  False  False     False  False  False    False    False  False   \n",
      "3    False  False  False     False  False  False    False    False  False   \n",
      "4    False  False  False     False  False  False    False    False  False   \n",
      "..     ...    ...    ...       ...    ...    ...      ...      ...    ...   \n",
      "298  False  False  False     False  False  False    False    False  False   \n",
      "299  False  False  False     False  False  False    False    False  False   \n",
      "300  False  False  False     False  False  False    False    False  False   \n",
      "301  False  False  False     False  False  False    False    False  False   \n",
      "302  False  False  False     False  False  False    False    False  False   \n",
      "\n",
      "     oldpeak  slope     ca   thal  target  \n",
      "0      False  False  False  False   False  \n",
      "1      False  False  False  False   False  \n",
      "2      False  False  False  False   False  \n",
      "3      False  False  False  False   False  \n",
      "4      False  False  False  False   False  \n",
      "..       ...    ...    ...    ...     ...  \n",
      "298    False  False  False  False   False  \n",
      "299    False  False  False  False   False  \n",
      "300    False  False  False  False   False  \n",
      "301    False  False  False  False   False  \n",
      "302    False  False  False  False   False  \n",
      "\n",
      "[303 rows x 14 columns]\n"
     ]
    }
   ],
   "source": [
    "# Check for missing values\n",
    "print(data.isnull());"
   ]
  },
  {
   "cell_type": "code",
   "execution_count": 22,
   "id": "1da0e1fc",
   "metadata": {},
   "outputs": [
    {
     "name": "stdout",
     "output_type": "stream",
     "text": [
      "0      False\n",
      "1      False\n",
      "2      False\n",
      "3      False\n",
      "4      False\n",
      "       ...  \n",
      "298    False\n",
      "299    False\n",
      "300    False\n",
      "301    False\n",
      "302    False\n",
      "Length: 303, dtype: bool\n"
     ]
    }
   ],
   "source": [
    "# Check for duplicates\n",
    "print(data.duplicated());"
   ]
  },
  {
   "cell_type": "markdown",
   "id": "a3c1b41c",
   "metadata": {},
   "source": [
    "## Data analysis\n",
    "The data looks pretty clean so far. Let's do some basic data analysis. \n",
    "\n",
    "### Summary Stats\n",
    "Let's calculate mean, count, standard deviation, minimum value, 25th percentile, median, 75th percentile, and maximum value."
   ]
  },
  {
   "cell_type": "code",
   "execution_count": 40,
   "id": "e5802c97",
   "metadata": {},
   "outputs": [
    {
     "name": "stdout",
     "output_type": "stream",
     "text": [
      "              age         sex          cp    trestbps        chol         fbs  \\\n",
      "count  303.000000  303.000000  303.000000  303.000000  303.000000  303.000000   \n",
      "mean    54.366337    0.683168    0.966997  131.623762  246.264026    0.148515   \n",
      "std      9.082101    0.466011    1.032052   17.538143   51.830751    0.356198   \n",
      "min     29.000000    0.000000    0.000000   94.000000  126.000000    0.000000   \n",
      "25%     47.500000    0.000000    0.000000  120.000000  211.000000    0.000000   \n",
      "50%     55.000000    1.000000    1.000000  130.000000  240.000000    0.000000   \n",
      "75%     61.000000    1.000000    2.000000  140.000000  274.500000    0.000000   \n",
      "max     77.000000    1.000000    3.000000  200.000000  564.000000    1.000000   \n",
      "\n",
      "          restecg     thalach       exang     oldpeak       slope          ca  \\\n",
      "count  303.000000  303.000000  303.000000  303.000000  303.000000  303.000000   \n",
      "mean     0.528053  149.646865    0.326733    1.039604    1.399340    0.729373   \n",
      "std      0.525860   22.905161    0.469794    1.161075    0.616226    1.022606   \n",
      "min      0.000000   71.000000    0.000000    0.000000    0.000000    0.000000   \n",
      "25%      0.000000  133.500000    0.000000    0.000000    1.000000    0.000000   \n",
      "50%      1.000000  153.000000    0.000000    0.800000    1.000000    0.000000   \n",
      "75%      1.000000  166.000000    1.000000    1.600000    2.000000    1.000000   \n",
      "max      2.000000  202.000000    1.000000    6.200000    2.000000    4.000000   \n",
      "\n",
      "             thal      target  \n",
      "count  303.000000  303.000000  \n",
      "mean     2.313531    0.544554  \n",
      "std      0.612277    0.498835  \n",
      "min      0.000000    0.000000  \n",
      "25%      2.000000    0.000000  \n",
      "50%      2.000000    1.000000  \n",
      "75%      3.000000    1.000000  \n",
      "max      3.000000    1.000000  \n"
     ]
    }
   ],
   "source": [
    "# Calculate summary statistics for each column.\n",
    "print(data.describe());"
   ]
  },
  {
   "cell_type": "markdown",
   "id": "8aec21b7",
   "metadata": {},
   "source": [
    "### Correlations\n",
    "Let's calculate correlations between columns using the corr() method. This will calculate the pairwise correlations between all numeric columns in the DataFrame and create a correlation matrix. The output will be a square matrix where each cell represents the correlation between two columns. The diagonal cells will be 1, to represent the correlations between pairs of columns. The values in the correlation matrix range from -1 to 1, where -1 represents a perfectly negative correlation, 0 represents no correlation, and 1 represents a perfectly positive correlation."
   ]
  },
  {
   "cell_type": "code",
   "execution_count": 41,
   "id": "28191ad9",
   "metadata": {},
   "outputs": [
    {
     "name": "stdout",
     "output_type": "stream",
     "text": [
      "               age       sex        cp  trestbps      chol       fbs  \\\n",
      "age       1.000000 -0.098447 -0.068653  0.279351  0.213678  0.121308   \n",
      "sex      -0.098447  1.000000 -0.049353 -0.056769 -0.197912  0.045032   \n",
      "cp       -0.068653 -0.049353  1.000000  0.047608 -0.076904  0.094444   \n",
      "trestbps  0.279351 -0.056769  0.047608  1.000000  0.123174  0.177531   \n",
      "chol      0.213678 -0.197912 -0.076904  0.123174  1.000000  0.013294   \n",
      "fbs       0.121308  0.045032  0.094444  0.177531  0.013294  1.000000   \n",
      "restecg  -0.116211 -0.058196  0.044421 -0.114103 -0.151040 -0.084189   \n",
      "thalach  -0.398522 -0.044020  0.295762 -0.046698 -0.009940 -0.008567   \n",
      "exang     0.096801  0.141664 -0.394280  0.067616  0.067023  0.025665   \n",
      "oldpeak   0.210013  0.096093 -0.149230  0.193216  0.053952  0.005747   \n",
      "slope    -0.168814 -0.030711  0.119717 -0.121475 -0.004038 -0.059894   \n",
      "ca        0.276326  0.118261 -0.181053  0.101389  0.070511  0.137979   \n",
      "thal      0.068001  0.210041 -0.161736  0.062210  0.098803 -0.032019   \n",
      "target   -0.225439 -0.280937  0.433798 -0.144931 -0.085239 -0.028046   \n",
      "\n",
      "           restecg   thalach     exang   oldpeak     slope        ca  \\\n",
      "age      -0.116211 -0.398522  0.096801  0.210013 -0.168814  0.276326   \n",
      "sex      -0.058196 -0.044020  0.141664  0.096093 -0.030711  0.118261   \n",
      "cp        0.044421  0.295762 -0.394280 -0.149230  0.119717 -0.181053   \n",
      "trestbps -0.114103 -0.046698  0.067616  0.193216 -0.121475  0.101389   \n",
      "chol     -0.151040 -0.009940  0.067023  0.053952 -0.004038  0.070511   \n",
      "fbs      -0.084189 -0.008567  0.025665  0.005747 -0.059894  0.137979   \n",
      "restecg   1.000000  0.044123 -0.070733 -0.058770  0.093045 -0.072042   \n",
      "thalach   0.044123  1.000000 -0.378812 -0.344187  0.386784 -0.213177   \n",
      "exang    -0.070733 -0.378812  1.000000  0.288223 -0.257748  0.115739   \n",
      "oldpeak  -0.058770 -0.344187  0.288223  1.000000 -0.577537  0.222682   \n",
      "slope     0.093045  0.386784 -0.257748 -0.577537  1.000000 -0.080155   \n",
      "ca       -0.072042 -0.213177  0.115739  0.222682 -0.080155  1.000000   \n",
      "thal     -0.011981 -0.096439  0.206754  0.210244 -0.104764  0.151832   \n",
      "target    0.137230  0.421741 -0.436757 -0.430696  0.345877 -0.391724   \n",
      "\n",
      "              thal    target  \n",
      "age       0.068001 -0.225439  \n",
      "sex       0.210041 -0.280937  \n",
      "cp       -0.161736  0.433798  \n",
      "trestbps  0.062210 -0.144931  \n",
      "chol      0.098803 -0.085239  \n",
      "fbs      -0.032019 -0.028046  \n",
      "restecg  -0.011981  0.137230  \n",
      "thalach  -0.096439  0.421741  \n",
      "exang     0.206754 -0.436757  \n",
      "oldpeak   0.210244 -0.430696  \n",
      "slope    -0.104764  0.345877  \n",
      "ca        0.151832 -0.391724  \n",
      "thal      1.000000 -0.344029  \n",
      "target   -0.344029  1.000000  \n"
     ]
    }
   ],
   "source": [
    "correlations = data.corr();\n",
    "print(correlations);"
   ]
  },
  {
   "cell_type": "markdown",
   "id": "5fa713b8",
   "metadata": {},
   "source": [
    "#### Correlation matrix heatmap\n",
    "We can visualize the correlation matrix as a heatmap using the heatmap() function from the seaborn library. This shows the pairwise correlations between all numeric columns in the DataFrame. The cells with higher absolute correlation values will be darker in color."
   ]
  },
  {
   "cell_type": "code",
   "execution_count": 42,
   "id": "eda8547b",
   "metadata": {},
   "outputs": [
    {
     "data": {
      "image/png": "[encoded data removed]",
      "text/plain": [
       "<Figure size 640x480 with 2 Axes>"
      ]
     },
     "metadata": {},
     "output_type": "display_data"
    }
   ],
   "source": [
    "# Visualize the correlation matrix as a heatmap\n",
    "sns.heatmap(correlations, cmap='coolwarm');\n",
    "plt.show();"
   ]
  },
  {
   "cell_type": "markdown",
   "id": "1e4ad648",
   "metadata": {},
   "source": [
    "### Calculate summary statistics for each group\n",
    "We will now group the data by one or more columns and calculate summary statistics for each group using the groupby() method. This will group the data by the sex column (which has values of 0 for female and 1 for male) and calculate summary statistics for each group using the describe() method of the DataFrame. The output will be a DataFrame that shows the summary statistics for each group."
   ]
  },
  {
   "cell_type": "code",
   "execution_count": 44,
   "id": "6bd873b8",
   "metadata": {},
   "outputs": [
    {
     "name": "stdout",
     "output_type": "stream",
     "text": [
      "age     count    207.000000\n",
      "        mean      53.758454\n",
      "        std        8.883803\n",
      "        min       29.000000\n",
      "        25%       47.000000\n",
      "                    ...    \n",
      "target  min        0.000000\n",
      "        25%        0.000000\n",
      "        50%        0.000000\n",
      "        75%        1.000000\n",
      "        max        1.000000\n",
      "Name: 1, Length: 104, dtype: float64\n",
      "age     count    96.000000\n",
      "        mean     55.677083\n",
      "        std       9.409396\n",
      "        min      34.000000\n",
      "        25%      49.750000\n",
      "                   ...    \n",
      "target  min       0.000000\n",
      "        25%       0.750000\n",
      "        50%       1.000000\n",
      "        75%       1.000000\n",
      "        max       1.000000\n",
      "Name: 0, Length: 104, dtype: float64\n"
     ]
    }
   ],
   "source": [
    "# Group the data by sex and calculate summary statistics for each group\n",
    "grouped_data = data.groupby('sex').describe()\n",
    "\n",
    "# Print the summary statistics for male patients\n",
    "print(grouped_data.loc[1])\n",
    "\n",
    "# Print the summary statistics for female patients\n",
    "print(grouped_data.loc[0])"
   ]
  },
  {
   "cell_type": "markdown",
   "id": "cc93da27",
   "metadata": {},
   "source": [
    "### Scatter plot\n",
    "To visualize the relationship between two numeric variables (e.g., age and cholesterol), you can create a scatter plot using the scatter() function from the matplotlib library. This will create a scatter plot that shows the relationship between age and cholesterol."
   ]
  },
  {
   "cell_type": "code",
   "execution_count": 46,
   "id": "9af07d30",
   "metadata": {},
   "outputs": [
    {
     "data": {
      "image/png": "[encoded data removed]",
      "text/plain": [
       "<Figure size 640x480 with 1 Axes>"
      ]
     },
     "metadata": {},
     "output_type": "display_data"
    }
   ],
   "source": [
    "# Create a scatter plot of age vs. cholesterol\n",
    "plt.scatter(data['age'], data['chol'])\n",
    "plt.xlabel('Age')\n",
    "plt.ylabel('Cholesterol')\n",
    "plt.show()"
   ]
  },
  {
   "cell_type": "markdown",
   "id": "f58bb491",
   "metadata": {},
   "source": [
    "### Bar chart\n",
    "To visualize the distribution of a categorical variable (e.g., the type of chest pain), you can create a bar chart using the bar() function"
   ]
  },
  {
   "cell_type": "code",
   "execution_count": null,
   "id": "863d1d6b",
   "metadata": {},
   "outputs": [],
   "source": []
  }
 ],
 "metadata": {
  "kernelspec": {
   "display_name": "Python 3 (ipykernel)",
   "language": "python",
   "name": "python3"
  },
  "language_info": {
   "codemirror_mode": {
    "name": "ipython",
    "version": 3
   },
   "file_extension": ".py",
   "mimetype": "text/x-python",
   "name": "python",
   "nbconvert_exporter": "python",
   "pygments_lexer": "ipython3",
   "version": "3.10.9"
  }
 },
 "nbformat": 4,
 "nbformat_minor": 5
}
