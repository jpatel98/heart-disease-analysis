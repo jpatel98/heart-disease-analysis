{
 "cells": [
  {
   "cell_type": "markdown",
   "id": "b47388b0",
   "metadata": {},
   "source": [
    "# Heart Disease Project\n",
    "In this project, we import a data from a CSV file and perform simple calculations."
   ]
  },
  {
   "cell_type": "code",
   "execution_count": 9,
   "id": "341b8c8b",
   "metadata": {},
   "outputs": [],
   "source": [
    "# Importing libraries\n",
    "import pandas as pd;\n",
    "\n",
    "# Loading csv file into a dataframe\n",
    "data = pd.read_csv(\"./data/heart-disease.csv\");"
   ]
  },
  {
   "cell_type": "markdown",
   "id": "6b47530d",
   "metadata": {},
   "source": [
    "## Data exploration and cleaning\n",
    "The data we loaded is a dataset containing information about patients heart history. Each row in the dataset represents one patient and each column represents a different variable. Here is a brief description of each column:\n",
    "\n",
    "- age: The age of the patient in years.\n",
    "- sex: The sex of the patient (0 = female, 1 = male).\n",
    "- cp: The type of chest pain experienced by the patient (0 = typical angina, 1 = atypical angina, 2 = non-anginal pain, 3 = asymptomatic).\n",
    "- trestbps: The resting blood pressure of the patient in mm Hg.\n",
    "- chol: The serum cholesterol level of the patient in mg/dL.\n",
    "- fbs: The fasting blood sugar level of the patient (0 = <120 mg/dL, 1 = >=120 mg/dL).\n",
    "- restecg: The resting electrocardiographic results of the patient (0 = normal, 1 = having ST-T wave abnormality, 2 = showing probable or definite left ventricular hypertrophy).\n",
    "- thalach: The maximum heart rate achieved by the patient during exercise.\n",
    "- exang: Whether or not the patient has exercise-induced angina (0 = no, 1 = yes).\n",
    "- oldpeak: ST depression induced by exercise relative to rest.\n",
    "- slope: The slope of the peak exercise ST segment (0 = upsloping, 1 = flat, 2 = downsloping).\n",
    "- ca: The number of major vessels (0-3) colored by fluoroscopy.\n",
    "- thal: A blood disorder called thalassemia (0 = normal, 1 = fixed defect, 2 = reversible defect).\n",
    "- target: Whether or not the patient has heart disease (0 = no, 1 = yes)."
   ]
  },
  {
   "cell_type": "code",
   "execution_count": 10,
   "id": "8b038a4e",
   "metadata": {},
   "outputs": [
    {
     "name": "stdout",
     "output_type": "stream",
     "text": [
      "     age  sex  cp  trestbps  chol  fbs  restecg  thalach  exang  oldpeak  \\\n",
      "168   63    1   0       130   254    0        0      147      0      1.4   \n",
      "9     57    1   2       150   168    0        1      174      0      1.6   \n",
      "72    29    1   1       130   204    0        0      202      0      0.0   \n",
      "116   41    1   2       130   214    0        0      168      0      2.0   \n",
      "85    67    0   2       115   564    0        0      160      0      1.6   \n",
      "\n",
      "     slope  ca  thal  target  \n",
      "168      1   1     3       0  \n",
      "9        2   0     2       1  \n",
      "72       2   0     2       1  \n",
      "116      1   0     2       1  \n",
      "85       1   0     3       1  \n"
     ]
    }
   ],
   "source": [
    "# Random data from the csv file to audit the quality.\n",
    "print(data.sample(n=5));"
   ]
  },
  {
   "cell_type": "code",
   "execution_count": 16,
   "id": "995c7ac5",
   "metadata": {
    "scrolled": false
   },
   "outputs": [
    {
     "name": "stdout",
     "output_type": "stream",
     "text": [
      "age           int64\n",
      "sex           int64\n",
      "cp            int64\n",
      "trestbps      int64\n",
      "chol          int64\n",
      "fbs           int64\n",
      "restecg       int64\n",
      "thalach       int64\n",
      "exang         int64\n",
      "oldpeak     float64\n",
      "slope         int64\n",
      "ca            int64\n",
      "thal          int64\n",
      "target        int64\n",
      "dtype: object\n"
     ]
    }
   ],
   "source": [
    "# Printing the data type of each of our variables (columns)\n",
    "print(data.dtypes);"
   ]
  },
  {
   "cell_type": "code",
   "execution_count": 20,
   "id": "3bca044c",
   "metadata": {},
   "outputs": [
    {
     "name": "stdout",
     "output_type": "stream",
     "text": [
      "       age    sex     cp  trestbps   chol    fbs  restecg  thalach  exang  \\\n",
      "0    False  False  False     False  False  False    False    False  False   \n",
      "1    False  False  False     False  False  False    False    False  False   \n",
      "2    False  False  False     False  False  False    False    False  False   \n",
      "3    False  False  False     False  False  False    False    False  False   \n",
      "4    False  False  False     False  False  False    False    False  False   \n",
      "..     ...    ...    ...       ...    ...    ...      ...      ...    ...   \n",
      "298  False  False  False     False  False  False    False    False  False   \n",
      "299  False  False  False     False  False  False    False    False  False   \n",
      "300  False  False  False     False  False  False    False    False  False   \n",
      "301  False  False  False     False  False  False    False    False  False   \n",
      "302  False  False  False     False  False  False    False    False  False   \n",
      "\n",
      "     oldpeak  slope     ca   thal  target  \n",
      "0      False  False  False  False   False  \n",
      "1      False  False  False  False   False  \n",
      "2      False  False  False  False   False  \n",
      "3      False  False  False  False   False  \n",
      "4      False  False  False  False   False  \n",
      "..       ...    ...    ...    ...     ...  \n",
      "298    False  False  False  False   False  \n",
      "299    False  False  False  False   False  \n",
      "300    False  False  False  False   False  \n",
      "301    False  False  False  False   False  \n",
      "302    False  False  False  False   False  \n",
      "\n",
      "[303 rows x 14 columns]\n"
     ]
    }
   ],
   "source": [
    "# Check for missing values\n",
    "print(data.isnull());"
   ]
  },
  {
   "cell_type": "code",
   "execution_count": 22,
   "id": "399b0640",
   "metadata": {},
   "outputs": [
    {
     "name": "stdout",
     "output_type": "stream",
     "text": [
      "0      False\n",
      "1      False\n",
      "2      False\n",
      "3      False\n",
      "4      False\n",
      "       ...  \n",
      "298    False\n",
      "299    False\n",
      "300    False\n",
      "301    False\n",
      "302    False\n",
      "Length: 303, dtype: bool\n"
     ]
    }
   ],
   "source": [
    "# Check for duplicates\n",
    "print(data.duplicated());"
   ]
  },
  {
   "cell_type": "markdown",
   "id": "5a59c292",
   "metadata": {},
   "source": [
    "## Data analysis\n",
    "The data looks pretty clean so far. Let's do some basic data analysis. "
   ]
  },
  {
   "cell_type": "code",
   "execution_count": 26,
   "id": "ec522290",
   "metadata": {},
   "outputs": [
    {
     "name": "stdout",
     "output_type": "stream",
     "text": [
      "              age         sex          cp    trestbps        chol         fbs  \\\n",
      "count  303.000000  303.000000  303.000000  303.000000  303.000000  303.000000   \n",
      "mean    54.366337    0.683168    0.966997  131.623762  246.264026    0.148515   \n",
      "std      9.082101    0.466011    1.032052   17.538143   51.830751    0.356198   \n",
      "min     29.000000    0.000000    0.000000   94.000000  126.000000    0.000000   \n",
      "25%     47.500000    0.000000    0.000000  120.000000  211.000000    0.000000   \n",
      "50%     55.000000    1.000000    1.000000  130.000000  240.000000    0.000000   \n",
      "75%     61.000000    1.000000    2.000000  140.000000  274.500000    0.000000   \n",
      "max     77.000000    1.000000    3.000000  200.000000  564.000000    1.000000   \n",
      "\n",
      "          restecg     thalach       exang     oldpeak       slope          ca  \\\n",
      "count  303.000000  303.000000  303.000000  303.000000  303.000000  303.000000   \n",
      "mean     0.528053  149.646865    0.326733    1.039604    1.399340    0.729373   \n",
      "std      0.525860   22.905161    0.469794    1.161075    0.616226    1.022606   \n",
      "min      0.000000   71.000000    0.000000    0.000000    0.000000    0.000000   \n",
      "25%      0.000000  133.500000    0.000000    0.000000    1.000000    0.000000   \n",
      "50%      1.000000  153.000000    0.000000    0.800000    1.000000    0.000000   \n",
      "75%      1.000000  166.000000    1.000000    1.600000    2.000000    1.000000   \n",
      "max      2.000000  202.000000    1.000000    6.200000    2.000000    4.000000   \n",
      "\n",
      "             thal      target  \n",
      "count  303.000000  303.000000  \n",
      "mean     2.313531    0.544554  \n",
      "std      0.612277    0.498835  \n",
      "min      0.000000    0.000000  \n",
      "25%      2.000000    0.000000  \n",
      "50%      2.000000    1.000000  \n",
      "75%      3.000000    1.000000  \n",
      "max      3.000000    1.000000  \n"
     ]
    }
   ],
   "source": [
    "# Let's calculate mean, count, standard deviation, minimum value, 25th percentile, median, \n",
    "# 75th percentile, and maximum value.\n",
    "print(data.describe((include=\"all\")))"
   ]
  },
  {
   "cell_type": "code",
   "execution_count": null,
   "id": "e66f6825",
   "metadata": {},
   "outputs": [],
   "source": []
  }
 ],
 "metadata": {
  "kernelspec": {
   "display_name": "Python 3 (ipykernel)",
   "language": "python",
   "name": "python3"
  },
  "language_info": {
   "codemirror_mode": {
    "name": "ipython",
    "version": 3
   },
   "file_extension": ".py",
   "mimetype": "text/x-python",
   "name": "python",
   "nbconvert_exporter": "python",
   "pygments_lexer": "ipython3",
   "version": "3.10.9"
  }
 },
 "nbformat": 4,
 "nbformat_minor": 5
}
